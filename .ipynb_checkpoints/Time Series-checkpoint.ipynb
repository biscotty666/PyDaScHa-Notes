{
 "cells": [
  {
   "cell_type": "markdown",
   "metadata": {},
   "source": [
    "# Working with Time Series\n",
    "\n",
    "[Book](https://jakevdp.github.io/PythonDataScienceHandbook/03.11-working-with-time-series.html)"
   ]
  },
  {
   "cell_type": "markdown",
   "metadata": {},
   "source": [
    "## Dates and times in Python\n",
    "\n",
    "`datetime` and `dateutil`"
   ]
  },
  {
   "cell_type": "code",
   "execution_count": 1,
   "metadata": {},
   "outputs": [
    {
     "data": {
      "text/plain": [
       "datetime.datetime(2015, 7, 4, 0, 0)"
      ]
     },
     "execution_count": 1,
     "metadata": {},
     "output_type": "execute_result"
    }
   ],
   "source": [
    "from datetime import datetime\n",
    "datetime(year=2015, month=7, day=4)"
   ]
  },
  {
   "cell_type": "code",
   "execution_count": 2,
   "metadata": {},
   "outputs": [
    {
     "data": {
      "text/plain": [
       "datetime.datetime(2015, 7, 4, 0, 0)"
      ]
     },
     "execution_count": 2,
     "metadata": {},
     "output_type": "execute_result"
    }
   ],
   "source": [
    "datetime(2015, 7, 4)"
   ]
  },
  {
   "cell_type": "code",
   "execution_count": 3,
   "metadata": {},
   "outputs": [
    {
     "data": {
      "text/plain": [
       "datetime.datetime(2015, 7, 4, 0, 0)"
      ]
     },
     "execution_count": 3,
     "metadata": {},
     "output_type": "execute_result"
    }
   ],
   "source": [
    "from dateutil import parser\n",
    "date = parser.parse(\"4th of July, 2015\")\n",
    "date"
   ]
  },
  {
   "cell_type": "markdown",
   "metadata": {},
   "source": [
    "[`strftime` formats](https://docs.python.org/3/library/datetime.html#strftime-and-strptime-behavior)"
   ]
  },
  {
   "cell_type": "code",
   "execution_count": 4,
   "metadata": {},
   "outputs": [
    {
     "data": {
      "text/plain": [
       "'Saturday'"
      ]
     },
     "execution_count": 4,
     "metadata": {},
     "output_type": "execute_result"
    }
   ],
   "source": [
    "date.strftime('%A')"
   ]
  },
  {
   "cell_type": "markdown",
   "metadata": {},
   "source": [
    "## NumPy\n",
    "\n",
    "`datetime64`"
   ]
  },
  {
   "cell_type": "code",
   "execution_count": 5,
   "metadata": {},
   "outputs": [
    {
     "data": {
      "text/plain": [
       "array('2015-07-04', dtype='datetime64[D]')"
      ]
     },
     "execution_count": 5,
     "metadata": {},
     "output_type": "execute_result"
    }
   ],
   "source": [
    "import numpy as np\n",
    "date = np.array('2015-07-04', dtype=np.datetime64)\n",
    "date"
   ]
  },
  {
   "cell_type": "code",
   "execution_count": 6,
   "metadata": {},
   "outputs": [
    {
     "data": {
      "text/plain": [
       "array(['2015-07-04', '2015-07-05', '2015-07-06', '2015-07-07',\n",
       "       '2015-07-08', '2015-07-09', '2015-07-10', '2015-07-11',\n",
       "       '2015-07-12', '2015-07-13', '2015-07-14', '2015-07-15'],\n",
       "      dtype='datetime64[D]')"
      ]
     },
     "execution_count": 6,
     "metadata": {},
     "output_type": "execute_result"
    }
   ],
   "source": [
    "date + np.arange(12)"
   ]
  },
  {
   "cell_type": "code",
   "execution_count": 7,
   "metadata": {},
   "outputs": [
    {
     "data": {
      "text/plain": [
       "array([ 0,  1,  2,  3,  4,  5,  6,  7,  8,  9, 10, 11])"
      ]
     },
     "execution_count": 7,
     "metadata": {},
     "output_type": "execute_result"
    }
   ],
   "source": [
    "np.arange(12)"
   ]
  },
  {
   "cell_type": "markdown",
   "metadata": {},
   "source": [
    "## Pandas\n",
    "\n",
    "`Timestamp`, `DatetimeIndex`"
   ]
  },
  {
   "cell_type": "code",
   "execution_count": 8,
   "metadata": {},
   "outputs": [
    {
     "data": {
      "text/plain": [
       "Timestamp('2015-07-04 00:00:00')"
      ]
     },
     "execution_count": 8,
     "metadata": {},
     "output_type": "execute_result"
    }
   ],
   "source": [
    "import pandas as pd\n",
    "date = pd.to_datetime(\"4th of July, 2015\")\n",
    "date"
   ]
  },
  {
   "cell_type": "code",
   "execution_count": 9,
   "metadata": {},
   "outputs": [
    {
     "data": {
      "text/plain": [
       "'Saturday'"
      ]
     },
     "execution_count": 9,
     "metadata": {},
     "output_type": "execute_result"
    }
   ],
   "source": [
    "date.strftime('%A')"
   ]
  },
  {
   "cell_type": "code",
   "execution_count": 10,
   "metadata": {},
   "outputs": [
    {
     "data": {
      "text/plain": [
       "DatetimeIndex(['2015-07-04', '2015-07-05', '2015-07-06', '2015-07-07',\n",
       "               '2015-07-08', '2015-07-09', '2015-07-10', '2015-07-11',\n",
       "               '2015-07-12', '2015-07-13', '2015-07-14', '2015-07-15'],\n",
       "              dtype='datetime64[ns]', freq=None)"
      ]
     },
     "execution_count": 10,
     "metadata": {},
     "output_type": "execute_result"
    }
   ],
   "source": [
    "date + pd.to_timedelta(np.arange(12), 'D')"
   ]
  },
  {
   "cell_type": "markdown",
   "metadata": {},
   "source": [
    "## Indexing by Time"
   ]
  },
  {
   "cell_type": "markdown",
   "metadata": {},
   "source": [
    "### Construct series with time index"
   ]
  },
  {
   "cell_type": "code",
   "execution_count": 11,
   "metadata": {},
   "outputs": [
    {
     "data": {
      "text/plain": [
       "2014-07-04    0\n",
       "2014-08-04    1\n",
       "2015-07-04    2\n",
       "2015-08-04    3\n",
       "dtype: int64"
      ]
     },
     "execution_count": 11,
     "metadata": {},
     "output_type": "execute_result"
    }
   ],
   "source": [
    "index = pd.DatetimeIndex(['2014-07-04', '2014-08-04',\n",
    "                          '2015-07-04', '2015-08-04'])\n",
    "data = pd.Series([0, 1, 2, 3], index=index)\n",
    "data"
   ]
  },
  {
   "cell_type": "code",
   "execution_count": 12,
   "metadata": {},
   "outputs": [
    {
     "data": {
      "text/plain": [
       "2014-07-04    0\n",
       "2014-08-04    1\n",
       "2015-07-04    2\n",
       "dtype: int64"
      ]
     },
     "execution_count": 12,
     "metadata": {},
     "output_type": "execute_result"
    }
   ],
   "source": [
    "data['2014-07-04':'2015-07-04']"
   ]
  },
  {
   "cell_type": "code",
   "execution_count": 13,
   "metadata": {},
   "outputs": [
    {
     "data": {
      "text/plain": [
       "2015-07-04    2\n",
       "2015-08-04    3\n",
       "dtype: int64"
      ]
     },
     "execution_count": 13,
     "metadata": {},
     "output_type": "execute_result"
    }
   ],
   "source": [
    "data['2015']"
   ]
  },
  {
   "cell_type": "markdown",
   "metadata": {},
   "source": [
    "## Pandas Time Series Data Structures"
   ]
  },
  {
   "cell_type": "markdown",
   "metadata": {},
   "source": [
    "- `Timestamp`, `DatetimeIndex`\n",
    "- `Period`, `PeriodIndex`\n",
    "- `Timedelta`, `TimedeltaIndex`"
   ]
  },
  {
   "cell_type": "markdown",
   "metadata": {},
   "source": [
    "`pd.to_datetime()`: with 1 date, produces a `Timestamp`, with a series, produces a `DatetimeIndex`"
   ]
  },
  {
   "cell_type": "code",
   "execution_count": 14,
   "metadata": {},
   "outputs": [
    {
     "data": {
      "text/plain": [
       "DatetimeIndex(['2015-07-03', '2015-07-04', '2015-07-06', '2015-07-07',\n",
       "               '2015-07-08'],\n",
       "              dtype='datetime64[ns]', freq=None)"
      ]
     },
     "execution_count": 14,
     "metadata": {},
     "output_type": "execute_result"
    }
   ],
   "source": [
    "dates = pd.to_datetime([datetime(2015, 7, 3), '4th of July, 2015',\n",
    "                       '2015-Jul-6', '07-07-2015', '20150708'])\n",
    "dates"
   ]
  },
  {
   "cell_type": "code",
   "execution_count": 15,
   "metadata": {},
   "outputs": [
    {
     "data": {
      "text/plain": [
       "PeriodIndex(['2015-07-03', '2015-07-04', '2015-07-06', '2015-07-07',\n",
       "             '2015-07-08'],\n",
       "            dtype='period[D]')"
      ]
     },
     "execution_count": 15,
     "metadata": {},
     "output_type": "execute_result"
    }
   ],
   "source": [
    "# Convert DatetimeIndex to PeriodIndex\n",
    "dates.to_period('D')"
   ]
  },
  {
   "cell_type": "code",
   "execution_count": 16,
   "metadata": {},
   "outputs": [
    {
     "data": {
      "text/plain": [
       "TimedeltaIndex(['0 days', '1 days', '3 days', '4 days', '5 days'], dtype='timedelta64[ns]', freq=None)"
      ]
     },
     "execution_count": 16,
     "metadata": {},
     "output_type": "execute_result"
    }
   ],
   "source": [
    "# subtracting dates creates a TimeDeltaIndex\n",
    "dates - dates[0]"
   ]
  },
  {
   "cell_type": "markdown",
   "metadata": {},
   "source": [
    "## Regular sequences\n",
    "\n",
    "- `pd.date_range()` for timestamps\n",
    "- `pd.period_range()` for periods\n",
    "- `pd.timedelta_range()` for time deltas. "
   ]
  },
  {
   "cell_type": "code",
   "execution_count": 17,
   "metadata": {},
   "outputs": [
    {
     "data": {
      "text/plain": [
       "DatetimeIndex(['2015-07-03', '2015-07-04', '2015-07-05', '2015-07-06',\n",
       "               '2015-07-07', '2015-07-08', '2015-07-09', '2015-07-10'],\n",
       "              dtype='datetime64[ns]', freq='D')"
      ]
     },
     "execution_count": 17,
     "metadata": {},
     "output_type": "execute_result"
    }
   ],
   "source": [
    "pd.date_range('2015-07-03', '2015-07-10')"
   ]
  },
  {
   "cell_type": "code",
   "execution_count": 18,
   "metadata": {},
   "outputs": [
    {
     "data": {
      "text/plain": [
       "DatetimeIndex(['2015-07-03', '2015-07-04', '2015-07-05', '2015-07-06',\n",
       "               '2015-07-07', '2015-07-08', '2015-07-09', '2015-07-10'],\n",
       "              dtype='datetime64[ns]', freq='D')"
      ]
     },
     "execution_count": 18,
     "metadata": {},
     "output_type": "execute_result"
    }
   ],
   "source": [
    "pd.date_range('2015-07-03', periods=8)"
   ]
  },
  {
   "cell_type": "code",
   "execution_count": 19,
   "metadata": {},
   "outputs": [
    {
     "data": {
      "text/plain": [
       "DatetimeIndex(['2015-07-03 00:00:00', '2015-07-03 01:00:00',\n",
       "               '2015-07-03 02:00:00', '2015-07-03 03:00:00',\n",
       "               '2015-07-03 04:00:00', '2015-07-03 05:00:00',\n",
       "               '2015-07-03 06:00:00', '2015-07-03 07:00:00'],\n",
       "              dtype='datetime64[ns]', freq='H')"
      ]
     },
     "execution_count": 19,
     "metadata": {},
     "output_type": "execute_result"
    }
   ],
   "source": [
    "pd.date_range('2015-07-03', periods=8, freq='H')"
   ]
  },
  {
   "cell_type": "code",
   "execution_count": 20,
   "metadata": {},
   "outputs": [
    {
     "data": {
      "text/plain": [
       "PeriodIndex(['2015-07', '2015-08', '2015-09', '2015-10', '2015-11', '2015-12',\n",
       "             '2016-01', '2016-02'],\n",
       "            dtype='period[M]')"
      ]
     },
     "execution_count": 20,
     "metadata": {},
     "output_type": "execute_result"
    }
   ],
   "source": [
    "pd.period_range('2015-07', periods=8, freq='M')"
   ]
  },
  {
   "cell_type": "code",
   "execution_count": 21,
   "metadata": {},
   "outputs": [
    {
     "data": {
      "text/plain": [
       "TimedeltaIndex(['0 days 00:00:00', '0 days 01:00:00', '0 days 02:00:00',\n",
       "                '0 days 03:00:00', '0 days 04:00:00', '0 days 05:00:00',\n",
       "                '0 days 06:00:00', '0 days 07:00:00', '0 days 08:00:00',\n",
       "                '0 days 09:00:00'],\n",
       "               dtype='timedelta64[ns]', freq='H')"
      ]
     },
     "execution_count": 21,
     "metadata": {},
     "output_type": "execute_result"
    }
   ],
   "source": [
    "pd.timedelta_range(0, periods=10, freq='H')"
   ]
  },
  {
   "cell_type": "markdown",
   "metadata": {},
   "source": [
    "\n",
    "## Frequencies and Offsets\n",
    "\n",
    "Fundamental to these Pandas time series tools is the concept of a frequency or date offset. Just as we saw the D (day) and H (hour) codes above, we can use such codes to specify any desired frequency spacing. The following table summarizes the main codes available:\n",
    "|Code| \tDescription| \tCode |\tDescription|\n",
    "|---|---|---|---|\n",
    "|D \t|Calendar day \t|B \t|Business day|\n",
    "|W \t|Weekly \t|\t||\n",
    "|M \t|Month end \t|BM |\tBusiness month end|\n",
    "|Q \t|Quarter end |\tBQ |\tBusiness quarter end|\n",
    "|A \t|Year end \t|BA |\tBusiness year end|\n",
    "|H \t|Hours \t|BH |\tBusiness hours|\n",
    "|T \t|Minutes \t|\t||\n",
    "|S \t|Seconds \t|\t||\n",
    "|L \t|Milliseonds |\t||\t\n",
    "|U \t|Microseconds |\t||\t\n",
    "|N \t|nanoseconds |\t|\t\n",
    "\n",
    "The monthly, quarterly, and annual frequencies are all marked at the end of the specified period. By adding an S suffix to any of these, they instead will be marked at the beginning:\n",
    "|Code \t|Description \t|\tCode |\tDescription|\n",
    "|---|---|---|---|\n",
    "MS |\tMonth start \t|\tBMS |\tBusiness month start|\n",
    "QS |\tQuarter start \t|\tBQS |\tBusiness quarter start|\n",
    "|AS \t|Year start \t\t|BAS |\tBusiness year start|\n",
    "\n",
    "Additionally, you can change the month used to mark any quarterly or annual code by adding a three-letter month code as a suffix:\n",
    "\n",
    "- Q-JAN, BQ-FEB, QS-MAR, BQS-APR, etc.\n",
    "- A-JAN, BA-FEB, AS-MAR, BAS-APR, etc.\n",
    "\n",
    "In the same way, the split-point of the weekly frequency can be modified by adding a three-letter weekday code:\n",
    "\n",
    "- W-SUN, W-MON, W-TUE, W-WED, etc.\n",
    "\n",
    "On top of this, codes can be combined with numbers to specify other frequencies. For example, for a frequency of 2 hours 30 minutes, we can combine the hour (H) and minute (T) codes as follows:\n"
   ]
  },
  {
   "cell_type": "code",
   "execution_count": 22,
   "metadata": {},
   "outputs": [
    {
     "data": {
      "text/plain": [
       "TimedeltaIndex(['0 days 00:00:00', '0 days 02:30:00', '0 days 05:00:00',\n",
       "                '0 days 07:30:00', '0 days 10:00:00', '0 days 12:30:00',\n",
       "                '0 days 15:00:00', '0 days 17:30:00', '0 days 20:00:00'],\n",
       "               dtype='timedelta64[ns]', freq='150T')"
      ]
     },
     "execution_count": 22,
     "metadata": {},
     "output_type": "execute_result"
    }
   ],
   "source": [
    "pd.timedelta_range(0, periods=9, freq=\"2H30T\")"
   ]
  },
  {
   "cell_type": "code",
   "execution_count": 23,
   "metadata": {},
   "outputs": [
    {
     "data": {
      "text/plain": [
       "DatetimeIndex(['2015-07-01', '2015-07-02', '2015-07-03', '2015-07-06',\n",
       "               '2015-07-07', '2015-07-08', '2015-07-09', '2015-07-10',\n",
       "               '2015-07-13', '2015-07-14', '2015-07-15', '2015-07-16',\n",
       "               '2015-07-17', '2015-07-20', '2015-07-21'],\n",
       "              dtype='datetime64[ns]', freq='B')"
      ]
     },
     "execution_count": 23,
     "metadata": {},
     "output_type": "execute_result"
    }
   ],
   "source": [
    "from pandas.tseries.offsets import BDay\n",
    "pd.date_range('2015-07-01', periods=15, freq=BDay())"
   ]
  },
  {
   "cell_type": "markdown",
   "metadata": {},
   "source": [
    "## Resampling, shifting and windowing"
   ]
  },
  {
   "cell_type": "code",
   "execution_count": 24,
   "metadata": {},
   "outputs": [
    {
     "name": "stdout",
     "output_type": "stream",
     "text": [
      "[*********************100%***********************]  1 of 1 completed\n",
      "                  Open        High         Low       Close   Adj Close  \\\n",
      "Date                                                                     \n",
      "2022-10-24  375.890015  380.059998  373.109985  378.869995  370.341309   \n",
      "2022-10-25  378.790009  385.250000  378.670013  384.920013  376.255157   \n",
      "2022-10-26  381.619995  387.579987  381.350006  382.019989  373.420380   \n",
      "2022-10-27  383.070007  385.000000  379.329987  379.980011  371.426361   \n",
      "2022-10-28  379.869995  389.519989  379.679993  389.019989  380.262817   \n",
      "2022-10-31  386.440002  388.399994  385.260010  386.209991  377.516113   \n",
      "2022-11-01  390.140015  390.390015  383.290009  384.519989  375.864166   \n",
      "2022-11-02  383.899994  388.630005  374.760010  374.869995  366.431366   \n",
      "2022-11-03  371.470001  374.200012  368.790009  371.010010  362.658295   \n",
      "2022-11-04  377.000000  378.869995  370.000000  376.350006  367.878052   \n",
      "2022-11-07  377.709991  380.570007  375.529999  379.950012  371.397064   \n",
      "2022-11-08  381.109985  385.119995  377.720001  382.000000  373.400848   \n",
      "2022-11-09  379.929993  381.140015  373.609985  374.130005  365.708038   \n",
      "2022-11-10  388.049988  395.040009  385.640015  394.690002  385.805237   \n",
      "2022-11-11  395.589996  399.350006  393.609985  398.510010  389.539215   \n",
      "2022-11-14  396.660004  400.179993  394.829987  395.119995  386.225525   \n",
      "2022-11-15  401.149994  402.309998  394.489990  398.489990  389.519684   \n",
      "2022-11-16  396.779999  397.779999  394.790009  395.450012  386.548096   \n",
      "2022-11-17  390.459991  394.950012  390.140015  394.239990  385.365295   \n",
      "2022-11-18  397.739990  397.809998  393.040009  396.029999  387.115051   \n",
      "2022-11-21  394.640015  395.820007  392.660004  394.589996  385.707458   \n",
      "2022-11-22  396.630005  400.070007  395.149994  399.899994  390.897949   \n",
      "2022-11-23  399.549988  402.929993  399.309998  402.420013  393.361237   \n",
      "2022-11-25  401.829987  402.910004  401.540009  402.329987  393.273224   \n",
      "2022-11-28  399.089996  400.809998  395.109985  395.910004  386.997772   \n",
      "2022-11-29  396.049988  397.299988  393.299988  395.230011  386.333099   \n",
      "2022-11-30  395.489990  407.679993  393.480011  407.679993  398.502777   \n",
      "2022-12-01  408.769989  410.000000  404.750000  407.380005  398.209564   \n",
      "2022-12-02  402.250000  407.859985  402.140015  406.910004  397.750153   \n",
      "2022-12-05  403.950012  404.929993  398.170013  399.589996  390.594910   \n",
      "2022-12-06  399.420013  399.989990  391.640015  393.829987  384.964569   \n",
      "2022-12-07  392.940002  395.640015  391.970001  393.160004  384.309692   \n",
      "2022-12-08  395.140015  397.359985  393.269989  396.239990  387.320312   \n",
      "2022-12-09  394.940002  397.619995  393.149994  393.279999  384.426971   \n",
      "2022-12-12  394.109985  398.950012  393.410004  398.950012  389.969330   \n",
      "2022-12-13  410.220001  410.489990  399.070007  401.970001  392.921387   \n",
      "2022-12-14  401.609985  405.500000  396.309998  399.399994  390.409149   \n",
      "2022-12-15  394.299988  395.250000  387.890015  389.630005  380.859131   \n",
      "2022-12-16  385.179993  386.579987  381.040009  383.269989  376.362610   \n",
      "2022-12-19  383.470001  383.820007  378.279999  380.019989  373.171204   \n",
      "2022-12-20  379.230011  382.230011  377.850006  380.540009  373.681854   \n",
      "2022-12-21  383.250000  387.410004  382.690002  386.230011  379.269318   \n",
      "2022-12-22  383.049988  386.209991  374.769989  380.720001  373.858612   \n",
      "\n",
      "               Volume  \n",
      "Date                   \n",
      "2022-10-24   85436900  \n",
      "2022-10-25   78846300  \n",
      "2022-10-26  104087300  \n",
      "2022-10-27   81971800  \n",
      "2022-10-28  100302000  \n",
      "2022-10-31   96631300  \n",
      "2022-11-01   85407600  \n",
      "2022-11-02  126990400  \n",
      "2022-11-03   87100100  \n",
      "2022-11-04  103505200  \n",
      "2022-11-07   68286900  \n",
      "2022-11-08   84641100  \n",
      "2022-11-09   78495500  \n",
      "2022-11-10  141455800  \n",
      "2022-11-11   93839900  \n",
      "2022-11-14   71903500  \n",
      "2022-11-15   93194500  \n",
      "2022-11-16   68508500  \n",
      "2022-11-17   74496300  \n",
      "2022-11-18   92922500  \n",
      "2022-11-21   51243200  \n",
      "2022-11-22   60429000  \n",
      "2022-11-23   68261600  \n",
      "2022-11-25   30545400  \n",
      "2022-11-28   67881600  \n",
      "2022-11-29   52310000  \n",
      "2022-11-30  144566700  \n",
      "2022-12-01   76398200  \n",
      "2022-12-02   85342700  \n",
      "2022-12-05   77289800  \n",
      "2022-12-06   77972200  \n",
      "2022-12-07   65927900  \n",
      "2022-12-08   60737900  \n",
      "2022-12-09   81447700  \n",
      "2022-12-12   75405800  \n",
      "2022-12-13  123782500  \n",
      "2022-12-14  108111300  \n",
      "2022-12-15  117705900  \n",
      "2022-12-16  119858000  \n",
      "2022-12-19   79878100  \n",
      "2022-12-20   74427200  \n",
      "2022-12-21   78167400  \n",
      "2022-12-22  100120900  \n"
     ]
    }
   ],
   "source": [
    "from frozendict import frozendict\n",
    "from pandas_datareader import data as pdr\n",
    "\n",
    "import yfinance as yfin\n",
    "\n",
    "\n",
    "yfin.pdr_override()\n",
    "\n",
    "spy = pdr.get_data_yahoo('SPY', start='2022-10-24', end='2022-12-23')\n",
    "\n",
    "print(spy)"
   ]
  }
 ],
 "metadata": {
  "kernelspec": {
   "display_name": "Python 3 (ipykernel)",
   "language": "python",
   "name": "python3"
  },
  "language_info": {
   "codemirror_mode": {
    "name": "ipython",
    "version": 3
   },
   "file_extension": ".py",
   "mimetype": "text/x-python",
   "name": "python",
   "nbconvert_exporter": "python",
   "pygments_lexer": "ipython3",
   "version": "3.11.5"
  }
 },
 "nbformat": 4,
 "nbformat_minor": 4
}
