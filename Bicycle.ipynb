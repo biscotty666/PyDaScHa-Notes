{
 "cells": [
  {
   "cell_type": "code",
   "execution_count": 1,
   "id": "024745ce-e14a-419a-b3fa-7a2cc6ccf07e",
   "metadata": {},
   "outputs": [],
   "source": [
    "import pandas as pd\n",
    "import numpy as np\n",
    "import matplotlib.pyplot as plt\n",
    "import seaborn as sns\n",
    "sns.set()"
   ]
  },
  {
   "cell_type": "code",
   "execution_count": 6,
   "id": "dac251ee-36c5-4e39-a5e7-ad8c2dac01ac",
   "metadata": {},
   "outputs": [
    {
     "name": "stdout",
     "output_type": "stream",
     "text": [
      "  % Total    % Received % Xferd  Average Speed   Time    Time     Time  Current\n",
      "                                 Dload  Upload   Total   Spent    Left  Speed\n",
      "100 4585k  100 4585k    0     0  13.8M      0 --:--:-- --:--:-- --:--:-- 13.8M\n",
      "  % Total    % Received % Xferd  Average Speed   Time    Time     Time  Current\n",
      "                                 Dload  Upload   Total   Spent    Left  Speed\n",
      "100  534k  100  534k    0     0  2268k      0 --:--:-- --:--:-- --:--:-- 2274k\n"
     ]
    }
   ],
   "source": [
    "url = 'https://raw.githubusercontent.com/jakevdp/bicycle-data/main'\n",
    "!curl -O {url}/FremontBridge.csv\n",
    "!curl -O {url}/SeattleWeather.csv"
   ]
  },
  {
   "cell_type": "code",
   "execution_count": 8,
   "id": "6636ef21-c414-4172-8fe7-5056ed6c893b",
   "metadata": {},
   "outputs": [
    {
     "name": "stderr",
     "output_type": "stream",
     "text": [
      "/tmp/ipykernel_2775240/3601648649.py:1: UserWarning: Could not infer format, so each element will be parsed individually, falling back to `dateutil`. To ensure parsing is consistent and as-expected, please specify a format.\n",
      "  counts = pd.read_csv('data/FremontBridge.csv', index_col='Date', parse_dates=True)\n"
     ]
    }
   ],
   "source": [
    "counts = pd.read_csv('data/FremontBridge.csv', index_col='Date', parse_dates=True)\n",
    "weather = pd.read_csv('data/SeattleWeather.csv', index_col='DATE', parse_dates=True)"
   ]
  },
  {
   "cell_type": "markdown",
   "id": "4b3421eb-fcd4-4cd3-b379-05d070669968",
   "metadata": {},
   "source": [
    "For simplicity, let's look at data prior to 2020 in order to avoid the effects of the COVID-19 pandemic, which significantly affected commuting patterns in Seattle"
   ]
  },
  {
   "cell_type": "code",
   "execution_count": 11,
   "id": "2ccc4c8e-ac01-4030-9521-41bb9816d97c",
   "metadata": {},
   "outputs": [],
   "source": [
    "counts = counts[counts.index < \"2020-01-01\"]\n",
    "weather = weather[weather.index < \"2020-01-01\"]"
   ]
  },
  {
   "cell_type": "code",
   "execution_count": 12,
   "id": "89669c84-b644-4522-98d3-1f0765d96228",
   "metadata": {},
   "outputs": [
    {
     "name": "stdout",
     "output_type": "stream",
     "text": [
      "<class 'pandas.core.frame.DataFrame'>\n",
      "DatetimeIndex: 127008 entries, 2019-11-01 00:00:00 to 2019-12-31 23:00:00\n",
      "Data columns (total 3 columns):\n",
      " #   Column                        Non-Null Count   Dtype  \n",
      "---  ------                        --------------   -----  \n",
      " 0   Fremont Bridge Total          126988 non-null  float64\n",
      " 1   Fremont Bridge East Sidewalk  126988 non-null  float64\n",
      " 2   Fremont Bridge West Sidewalk  126988 non-null  float64\n",
      "dtypes: float64(3)\n",
      "memory usage: 3.9 MB\n"
     ]
    }
   ],
   "source": [
    "counts.info()"
   ]
  },
  {
   "cell_type": "code",
   "execution_count": 13,
   "id": "62227edd-c71c-4df0-9425-869c1021bd20",
   "metadata": {},
   "outputs": [
    {
     "name": "stdout",
     "output_type": "stream",
     "text": [
      "<class 'pandas.core.frame.DataFrame'>\n",
      "DatetimeIndex: 2922 entries, 2012-01-01 to 2019-12-31\n",
      "Data columns (total 28 columns):\n",
      " #   Column   Non-Null Count  Dtype  \n",
      "---  ------   --------------  -----  \n",
      " 0   STATION  2922 non-null   object \n",
      " 1   NAME     2922 non-null   object \n",
      " 2   AWND     2922 non-null   float64\n",
      " 3   FMTM     31 non-null     float64\n",
      " 4   PGTM     83 non-null     float64\n",
      " 5   PRCP     2922 non-null   float64\n",
      " 6   SNOW     2922 non-null   float64\n",
      " 7   SNWD     2922 non-null   float64\n",
      " 8   TAVG     2466 non-null   float64\n",
      " 9   TMAX     2922 non-null   int64  \n",
      " 10  TMIN     2922 non-null   int64  \n",
      " 11  WDF2     2922 non-null   int64  \n",
      " 12  WDF5     2897 non-null   float64\n",
      " 13  WSF2     2922 non-null   float64\n",
      " 14  WSF5     2897 non-null   float64\n",
      " 15  WT01     1254 non-null   float64\n",
      " 16  WT02     150 non-null    float64\n",
      " 17  WT03     27 non-null     float64\n",
      " 18  WT04     8 non-null      float64\n",
      " 19  WT05     3 non-null      float64\n",
      " 20  WT08     141 non-null    float64\n",
      " 21  WT09     1 non-null      float64\n",
      " 22  WT13     195 non-null    float64\n",
      " 23  WT14     53 non-null     float64\n",
      " 24  WT16     268 non-null    float64\n",
      " 25  WT17     1 non-null      float64\n",
      " 26  WT18     20 non-null     float64\n",
      " 27  WT22     9 non-null      float64\n",
      "dtypes: float64(23), int64(3), object(2)\n",
      "memory usage: 662.0+ KB\n"
     ]
    }
   ],
   "source": [
    "weather.info()"
   ]
  },
  {
   "cell_type": "code",
   "execution_count": 36,
   "id": "4686523f-5f72-45ec-80c3-c887ae2b0b91",
   "metadata": {},
   "outputs": [
    {
     "data": {
      "text/html": [
       "<div>\n",
       "<style scoped>\n",
       "    .dataframe tbody tr th:only-of-type {\n",
       "        vertical-align: middle;\n",
       "    }\n",
       "\n",
       "    .dataframe tbody tr th {\n",
       "        vertical-align: top;\n",
       "    }\n",
       "\n",
       "    .dataframe thead th {\n",
       "        text-align: right;\n",
       "    }\n",
       "</style>\n",
       "<table border=\"1\" class=\"dataframe\">\n",
       "  <thead>\n",
       "    <tr style=\"text-align: right;\">\n",
       "      <th></th>\n",
       "      <th>Total</th>\n",
       "    </tr>\n",
       "    <tr>\n",
       "      <th>Date</th>\n",
       "      <th></th>\n",
       "    </tr>\n",
       "  </thead>\n",
       "  <tbody>\n",
       "    <tr>\n",
       "      <th>2012-10-03</th>\n",
       "      <td>14084.0</td>\n",
       "    </tr>\n",
       "    <tr>\n",
       "      <th>2012-10-04</th>\n",
       "      <td>13900.0</td>\n",
       "    </tr>\n",
       "    <tr>\n",
       "      <th>2012-10-05</th>\n",
       "      <td>12592.0</td>\n",
       "    </tr>\n",
       "    <tr>\n",
       "      <th>2012-10-06</th>\n",
       "      <td>8024.0</td>\n",
       "    </tr>\n",
       "    <tr>\n",
       "      <th>2012-10-07</th>\n",
       "      <td>8568.0</td>\n",
       "    </tr>\n",
       "  </tbody>\n",
       "</table>\n",
       "</div>"
      ],
      "text/plain": [
       "              Total\n",
       "Date               \n",
       "2012-10-03  14084.0\n",
       "2012-10-04  13900.0\n",
       "2012-10-05  12592.0\n",
       "2012-10-06   8024.0\n",
       "2012-10-07   8568.0"
      ]
     },
     "execution_count": 36,
     "metadata": {},
     "output_type": "execute_result"
    }
   ],
   "source": [
    "daily = counts.resample('D').sum()\n",
    "daily['Total'] = daily.sum(axis=1)\n",
    "daily = daily[['Total']]\n",
    "daily.head()"
   ]
  },
  {
   "cell_type": "markdown",
   "id": "6bf7091f-b891-42be-b76e-c53ec91d02a0",
   "metadata": {},
   "source": [
    "In order to analyze by day of week, create binary columns for each day."
   ]
  },
  {
   "cell_type": "code",
   "execution_count": 37,
   "id": "0a14e809-80c7-413b-87c6-d8aab481d784",
   "metadata": {},
   "outputs": [],
   "source": [
    "days = ['Mon', 'Tue', 'Wed', 'Thu', 'Fri', 'Sat', 'Sun']\n",
    "for i in range(7):\n",
    "    daily[days[i]] = (daily.index.dayofweek == i).astype(float)"
   ]
  },
  {
   "cell_type": "markdown",
   "id": "6a5adccf-eda7-4f77-81b5-1d0385a5190b",
   "metadata": {},
   "source": [
    "### Holidays"
   ]
  },
  {
   "cell_type": "code",
   "execution_count": 38,
   "id": "0719fad6-273d-4ee6-b14a-561cdfb0f935",
   "metadata": {},
   "outputs": [],
   "source": [
    "from pandas.tseries.holiday import USFederalHolidayCalendar\n",
    "cal = USFederalHolidayCalendar()\n",
    "holidays = cal.holidays('2012', '2020')\n",
    "daily = daily.join(pd.Series(1, index=holidays, name='holiday'))\n",
    "daily.holiday.fillna(0, inplace=True)"
   ]
  },
  {
   "cell_type": "markdown",
   "id": "57d3725a-4483-4c60-a803-a92012b22db0",
   "metadata": {},
   "source": [
    "### Daylight Hours"
   ]
  },
  {
   "cell_type": "code",
   "execution_count": 39,
   "id": "b6f13c15-2425-4eaf-9b2f-59da65da90fb",
   "metadata": {},
   "outputs": [
    {
     "data": {
      "text/plain": [
       "(8.0, 17.0)"
      ]
     },
     "execution_count": 39,
     "metadata": {},
     "output_type": "execute_result"
    },
    {
     "data": {
      "image/png": "[encoded data removed]",
      "text/plain": [
       "<Figure size 640x480 with 1 Axes>"
      ]
     },
     "metadata": {},
     "output_type": "display_data"
    }
   ],
   "source": [
    "from datetime import datetime\n",
    "def hours_of_daylight(date, axis=23.44, latitude=47.61):\n",
    "    days = (date - pd.to_datetime(datetime(2000, 12, 21))).days\n",
    "    m = (1. - np.tan(np.radians(latitude))\n",
    "        * np.tan(np.radians(axis)\n",
    "        * np.cos(days * 2 * np.pi / 365.25)))\n",
    "    return 24. * np.degrees(np.arccos(1 - np.clip(m, 0, 2))) / 180.\n",
    "\n",
    "daily['daylight_hrs'] = list(map(hours_of_daylight, daily.index))\n",
    "daily[['daylight_hrs']].plot()\n",
    "plt.ylim(8, 17)"
   ]
  },
  {
   "cell_type": "markdown",
   "id": "1514e91e-ad05-44d5-b20e-73a396fab440",
   "metadata": {},
   "source": [
    "### Add weather data (temp and preciptation)"
   ]
  },
  {
   "cell_type": "code",
   "execution_count": 25,
   "id": "bcda3920-b766-4f99-99f4-1fa147935a57",
   "metadata": {},
   "outputs": [],
   "source": [
    "weather = pd.read_csv('data/SeattleWeather.csv', index_col='DATE', parse_dates=True)"
   ]
  },
  {
   "cell_type": "code",
   "execution_count": 26,
   "id": "3e000e75-4752-446d-95db-aac20a6b8263",
   "metadata": {},
   "outputs": [],
   "source": [
    "weather['Temp (F)'] = 0.5 * (weather.TMIN + weather.TMAX)\n",
    "weather['Rainfall (in)'] = weather.PRCP\n",
    "weather['dry day'] = (weather.PRCP == 0).astype(int)"
   ]
  },
  {
   "cell_type": "code",
   "execution_count": 40,
   "id": "ac3750ca-3847-4b96-b8f2-bf6f2213c7f9",
   "metadata": {},
   "outputs": [],
   "source": [
    "daily = daily.join(weather[['Rainfall (in)', 'Temp (F)', 'dry day']], rsuffix='other')"
   ]
  },
  {
   "cell_type": "code",
   "execution_count": 41,
   "id": "83a48fdb-a2be-4edf-981c-5ff6ff36578d",
   "metadata": {},
   "outputs": [
    {
     "data": {
      "text/html": [
       "<div>\n",
       "<style scoped>\n",
       "    .dataframe tbody tr th:only-of-type {\n",
       "        vertical-align: middle;\n",
       "    }\n",
       "\n",
       "    .dataframe tbody tr th {\n",
       "        vertical-align: top;\n",
       "    }\n",
       "\n",
       "    .dataframe thead th {\n",
       "        text-align: right;\n",
       "    }\n",
       "</style>\n",
       "<table border=\"1\" class=\"dataframe\">\n",
       "  <thead>\n",
       "    <tr style=\"text-align: right;\">\n",
       "      <th></th>\n",
       "      <th>Total</th>\n",
       "      <th>Mon</th>\n",
       "      <th>Tue</th>\n",
       "      <th>Wed</th>\n",
       "      <th>Thu</th>\n",
       "      <th>Fri</th>\n",
       "      <th>Sat</th>\n",
       "      <th>Sun</th>\n",
       "      <th>holiday</th>\n",
       "      <th>daylight_hrs</th>\n",
       "      <th>Rainfall (in)</th>\n",
       "      <th>Temp (F)</th>\n",
       "      <th>dry day</th>\n",
       "    </tr>\n",
       "    <tr>\n",
       "      <th>Date</th>\n",
       "      <th></th>\n",
       "      <th></th>\n",
       "      <th></th>\n",
       "      <th></th>\n",
       "      <th></th>\n",
       "      <th></th>\n",
       "      <th></th>\n",
       "      <th></th>\n",
       "      <th></th>\n",
       "      <th></th>\n",
       "      <th></th>\n",
       "      <th></th>\n",
       "      <th></th>\n",
       "    </tr>\n",
       "  </thead>\n",
       "  <tbody>\n",
       "    <tr>\n",
       "      <th>2012-10-03</th>\n",
       "      <td>14084.0</td>\n",
       "      <td>0.0</td>\n",
       "      <td>0.0</td>\n",
       "      <td>1.0</td>\n",
       "      <td>0.0</td>\n",
       "      <td>0.0</td>\n",
       "      <td>0.0</td>\n",
       "      <td>0.0</td>\n",
       "      <td>0.0</td>\n",
       "      <td>11.277359</td>\n",
       "      <td>0.0</td>\n",
       "      <td>56.0</td>\n",
       "      <td>1</td>\n",
       "    </tr>\n",
       "    <tr>\n",
       "      <th>2012-10-04</th>\n",
       "      <td>13900.0</td>\n",
       "      <td>0.0</td>\n",
       "      <td>0.0</td>\n",
       "      <td>0.0</td>\n",
       "      <td>1.0</td>\n",
       "      <td>0.0</td>\n",
       "      <td>0.0</td>\n",
       "      <td>0.0</td>\n",
       "      <td>0.0</td>\n",
       "      <td>11.219142</td>\n",
       "      <td>0.0</td>\n",
       "      <td>56.5</td>\n",
       "      <td>1</td>\n",
       "    </tr>\n",
       "    <tr>\n",
       "      <th>2012-10-05</th>\n",
       "      <td>12592.0</td>\n",
       "      <td>0.0</td>\n",
       "      <td>0.0</td>\n",
       "      <td>0.0</td>\n",
       "      <td>0.0</td>\n",
       "      <td>1.0</td>\n",
       "      <td>0.0</td>\n",
       "      <td>0.0</td>\n",
       "      <td>0.0</td>\n",
       "      <td>11.161038</td>\n",
       "      <td>0.0</td>\n",
       "      <td>59.5</td>\n",
       "      <td>1</td>\n",
       "    </tr>\n",
       "    <tr>\n",
       "      <th>2012-10-06</th>\n",
       "      <td>8024.0</td>\n",
       "      <td>0.0</td>\n",
       "      <td>0.0</td>\n",
       "      <td>0.0</td>\n",
       "      <td>0.0</td>\n",
       "      <td>0.0</td>\n",
       "      <td>1.0</td>\n",
       "      <td>0.0</td>\n",
       "      <td>0.0</td>\n",
       "      <td>11.103056</td>\n",
       "      <td>0.0</td>\n",
       "      <td>60.5</td>\n",
       "      <td>1</td>\n",
       "    </tr>\n",
       "    <tr>\n",
       "      <th>2012-10-07</th>\n",
       "      <td>8568.0</td>\n",
       "      <td>0.0</td>\n",
       "      <td>0.0</td>\n",
       "      <td>0.0</td>\n",
       "      <td>0.0</td>\n",
       "      <td>0.0</td>\n",
       "      <td>0.0</td>\n",
       "      <td>1.0</td>\n",
       "      <td>0.0</td>\n",
       "      <td>11.045208</td>\n",
       "      <td>0.0</td>\n",
       "      <td>60.5</td>\n",
       "      <td>1</td>\n",
       "    </tr>\n",
       "  </tbody>\n",
       "</table>\n",
       "</div>"
      ],
      "text/plain": [
       "              Total  Mon  Tue  Wed  Thu  Fri  Sat  Sun  holiday  daylight_hrs  \\\n",
       "Date                                                                            \n",
       "2012-10-03  14084.0  0.0  0.0  1.0  0.0  0.0  0.0  0.0      0.0     11.277359   \n",
       "2012-10-04  13900.0  0.0  0.0  0.0  1.0  0.0  0.0  0.0      0.0     11.219142   \n",
       "2012-10-05  12592.0  0.0  0.0  0.0  0.0  1.0  0.0  0.0      0.0     11.161038   \n",
       "2012-10-06   8024.0  0.0  0.0  0.0  0.0  0.0  1.0  0.0      0.0     11.103056   \n",
       "2012-10-07   8568.0  0.0  0.0  0.0  0.0  0.0  0.0  1.0      0.0     11.045208   \n",
       "\n",
       "            Rainfall (in)  Temp (F)  dry day  \n",
       "Date                                          \n",
       "2012-10-03            0.0      56.0        1  \n",
       "2012-10-04            0.0      56.5        1  \n",
       "2012-10-05            0.0      59.5        1  \n",
       "2012-10-06            0.0      60.5        1  \n",
       "2012-10-07            0.0      60.5        1  "
      ]
     },
     "execution_count": 41,
     "metadata": {},
     "output_type": "execute_result"
    }
   ],
   "source": [
    "daily.head()"
   ]
  },
  {
   "cell_type": "code",
   "execution_count": 43,
   "id": "2430dcc5-6119-462b-9fb2-5410c9db0aab",
   "metadata": {},
   "outputs": [],
   "source": [
    "daily['annual'] = (daily.index - daily.index[0]).days / 365."
   ]
  },
  {
   "cell_type": "code",
   "execution_count": 44,
   "id": "86b5177f-cd31-4dc7-86fd-d26d584e181c",
   "metadata": {},
   "outputs": [
    {
     "data": {
      "text/html": [
       "<div>\n",
       "<style scoped>\n",
       "    .dataframe tbody tr th:only-of-type {\n",
       "        vertical-align: middle;\n",
       "    }\n",
       "\n",
       "    .dataframe tbody tr th {\n",
       "        vertical-align: top;\n",
       "    }\n",
       "\n",
       "    .dataframe thead th {\n",
       "        text-align: right;\n",
       "    }\n",
       "</style>\n",
       "<table border=\"1\" class=\"dataframe\">\n",
       "  <thead>\n",
       "    <tr style=\"text-align: right;\">\n",
       "      <th></th>\n",
       "      <th>Total</th>\n",
       "      <th>Mon</th>\n",
       "      <th>Tue</th>\n",
       "      <th>Wed</th>\n",
       "      <th>Thu</th>\n",
       "      <th>Fri</th>\n",
       "      <th>Sat</th>\n",
       "      <th>Sun</th>\n",
       "      <th>holiday</th>\n",
       "      <th>daylight_hrs</th>\n",
       "      <th>Rainfall (in)</th>\n",
       "      <th>Temp (F)</th>\n",
       "      <th>dry day</th>\n",
       "      <th>annual</th>\n",
       "    </tr>\n",
       "    <tr>\n",
       "      <th>Date</th>\n",
       "      <th></th>\n",
       "      <th></th>\n",
       "      <th></th>\n",
       "      <th></th>\n",
       "      <th></th>\n",
       "      <th></th>\n",
       "      <th></th>\n",
       "      <th></th>\n",
       "      <th></th>\n",
       "      <th></th>\n",
       "      <th></th>\n",
       "      <th></th>\n",
       "      <th></th>\n",
       "      <th></th>\n",
       "    </tr>\n",
       "  </thead>\n",
       "  <tbody>\n",
       "    <tr>\n",
       "      <th>2012-10-03</th>\n",
       "      <td>14084.0</td>\n",
       "      <td>0.0</td>\n",
       "      <td>0.0</td>\n",
       "      <td>1.0</td>\n",
       "      <td>0.0</td>\n",
       "      <td>0.0</td>\n",
       "      <td>0.0</td>\n",
       "      <td>0.0</td>\n",
       "      <td>0.0</td>\n",
       "      <td>11.277359</td>\n",
       "      <td>0.0</td>\n",
       "      <td>56.0</td>\n",
       "      <td>1</td>\n",
       "      <td>0.000000</td>\n",
       "    </tr>\n",
       "    <tr>\n",
       "      <th>2012-10-04</th>\n",
       "      <td>13900.0</td>\n",
       "      <td>0.0</td>\n",
       "      <td>0.0</td>\n",
       "      <td>0.0</td>\n",
       "      <td>1.0</td>\n",
       "      <td>0.0</td>\n",
       "      <td>0.0</td>\n",
       "      <td>0.0</td>\n",
       "      <td>0.0</td>\n",
       "      <td>11.219142</td>\n",
       "      <td>0.0</td>\n",
       "      <td>56.5</td>\n",
       "      <td>1</td>\n",
       "      <td>0.002740</td>\n",
       "    </tr>\n",
       "    <tr>\n",
       "      <th>2012-10-05</th>\n",
       "      <td>12592.0</td>\n",
       "      <td>0.0</td>\n",
       "      <td>0.0</td>\n",
       "      <td>0.0</td>\n",
       "      <td>0.0</td>\n",
       "      <td>1.0</td>\n",
       "      <td>0.0</td>\n",
       "      <td>0.0</td>\n",
       "      <td>0.0</td>\n",
       "      <td>11.161038</td>\n",
       "      <td>0.0</td>\n",
       "      <td>59.5</td>\n",
       "      <td>1</td>\n",
       "      <td>0.005479</td>\n",
       "    </tr>\n",
       "    <tr>\n",
       "      <th>2012-10-06</th>\n",
       "      <td>8024.0</td>\n",
       "      <td>0.0</td>\n",
       "      <td>0.0</td>\n",
       "      <td>0.0</td>\n",
       "      <td>0.0</td>\n",
       "      <td>0.0</td>\n",
       "      <td>1.0</td>\n",
       "      <td>0.0</td>\n",
       "      <td>0.0</td>\n",
       "      <td>11.103056</td>\n",
       "      <td>0.0</td>\n",
       "      <td>60.5</td>\n",
       "      <td>1</td>\n",
       "      <td>0.008219</td>\n",
       "    </tr>\n",
       "    <tr>\n",
       "      <th>2012-10-07</th>\n",
       "      <td>8568.0</td>\n",
       "      <td>0.0</td>\n",
       "      <td>0.0</td>\n",
       "      <td>0.0</td>\n",
       "      <td>0.0</td>\n",
       "      <td>0.0</td>\n",
       "      <td>0.0</td>\n",
       "      <td>1.0</td>\n",
       "      <td>0.0</td>\n",
       "      <td>11.045208</td>\n",
       "      <td>0.0</td>\n",
       "      <td>60.5</td>\n",
       "      <td>1</td>\n",
       "      <td>0.010959</td>\n",
       "    </tr>\n",
       "  </tbody>\n",
       "</table>\n",
       "</div>"
      ],
      "text/plain": [
       "              Total  Mon  Tue  Wed  Thu  Fri  Sat  Sun  holiday  daylight_hrs  \\\n",
       "Date                                                                            \n",
       "2012-10-03  14084.0  0.0  0.0  1.0  0.0  0.0  0.0  0.0      0.0     11.277359   \n",
       "2012-10-04  13900.0  0.0  0.0  0.0  1.0  0.0  0.0  0.0      0.0     11.219142   \n",
       "2012-10-05  12592.0  0.0  0.0  0.0  0.0  1.0  0.0  0.0      0.0     11.161038   \n",
       "2012-10-06   8024.0  0.0  0.0  0.0  0.0  0.0  1.0  0.0      0.0     11.103056   \n",
       "2012-10-07   8568.0  0.0  0.0  0.0  0.0  0.0  0.0  1.0      0.0     11.045208   \n",
       "\n",
       "            Rainfall (in)  Temp (F)  dry day    annual  \n",
       "Date                                                    \n",
       "2012-10-03            0.0      56.0        1  0.000000  \n",
       "2012-10-04            0.0      56.5        1  0.002740  \n",
       "2012-10-05            0.0      59.5        1  0.005479  \n",
       "2012-10-06            0.0      60.5        1  0.008219  \n",
       "2012-10-07            0.0      60.5        1  0.010959  "
      ]
     },
     "execution_count": 44,
     "metadata": {},
     "output_type": "execute_result"
    }
   ],
   "source": [
    "daily.head()"
   ]
  },
  {
   "cell_type": "markdown",
   "id": "9a7f4587-bd48-42ce-b7a4-44e7fb43d9c2",
   "metadata": {},
   "source": [
    "With this in place, we can choose the columns to use, and fit a linear regression model to our data. \n",
    "\n",
    "We will set `fit_intercept=False`, because the daily flags essentially operate as their own day-specific intercepts:"
   ]
  },
  {
   "cell_type": "code",
   "execution_count": 48,
   "id": "a297e648-7e49-45e1-844b-4df0c46a84a1",
   "metadata": {},
   "outputs": [],
   "source": [
    "from sklearn.linear_model import LinearRegression\n",
    "daily.dropna(axis=0, how='any', inplace=True)\n",
    "column_names = ['Mon', 'Tue', 'Wed', 'Thu', 'Fri', 'Sat', 'Sun',\n",
    "                'holiday', 'daylight_hrs', 'Rainfall (in)',\n",
    "                'dry day', 'Temp (F)', 'annual']\n",
    "X = daily[column_names]\n",
    "y = daily['Total']\n",
    "\n",
    "model = LinearRegression(fit_intercept=False)\n",
    "model.fit(X, y)\n",
    "daily['predicted'] = model.predict(X)"
   ]
  },
  {
   "cell_type": "code",
   "execution_count": 49,
   "id": "960a991b-e6ed-4133-9947-5974d6a3f626",
   "metadata": {},
   "outputs": [
    {
     "data": {
      "image/png": "[encoded data removed]",
      "text/plain": [
       "<Figure size 640x480 with 1 Axes>"
      ]
     },
     "metadata": {},
     "output_type": "display_data"
    }
   ],
   "source": [
    "daily[['Total', 'predicted']].plot(alpha=0.5);"
   ]
  },
  {
   "cell_type": "code",
   "execution_count": 50,
   "id": "e87f4ccf-634d-45d3-aece-a9b4876238d0",
   "metadata": {},
   "outputs": [
    {
     "data": {
      "text/plain": [
       "Mon              -3309.953439\n",
       "Tue              -2860.625060\n",
       "Wed              -2962.889892\n",
       "Thu              -3480.656444\n",
       "Fri              -4836.064503\n",
       "Sat             -10436.802843\n",
       "Sun             -10795.195718\n",
       "holiday          -5006.995232\n",
       "daylight_hrs       409.146368\n",
       "Rainfall (in)    -2789.860745\n",
       "dry day           2111.069565\n",
       "Temp (F)           179.026296\n",
       "annual             324.437749\n",
       "dtype: float64"
      ]
     },
     "execution_count": 50,
     "metadata": {},
     "output_type": "execute_result"
    }
   ],
   "source": [
    "params = pd.Series(model.coef_, index=X.columns)\n",
    "params"
   ]
  },
  {
   "cell_type": "markdown",
   "id": "06e603f2-200c-482f-bc96-6e44046461ee",
   "metadata": {},
   "source": [
    "These numbers are difficult to interpret without some measure of their uncertainty. We can compute these uncertainties quickly using bootstrap resamplings of the data:"
   ]
  },
  {
   "cell_type": "code",
   "execution_count": 51,
   "id": "499db16a-9715-4365-897e-caa99848ade8",
   "metadata": {},
   "outputs": [],
   "source": [
    "from sklearn.utils import resample\n",
    "np.random.seed(1)\n",
    "err = np.std([model.fit(*resample(X, y)).coef_\n",
    "             for i in range(1000)], 0)"
   ]
  },
  {
   "cell_type": "code",
   "execution_count": 52,
   "id": "fdc0708c-4c60-4483-a839-61e0ef0d34fd",
   "metadata": {},
   "outputs": [
    {
     "name": "stdout",
     "output_type": "stream",
     "text": [
      "                effect  uncertainty\n",
      "Mon            -3310.0        265.0\n",
      "Tue            -2861.0        274.0\n",
      "Wed            -2963.0        268.0\n",
      "Thu            -3481.0        268.0\n",
      "Fri            -4836.0        261.0\n",
      "Sat           -10437.0        259.0\n",
      "Sun           -10795.0        267.0\n",
      "holiday        -5007.0        401.0\n",
      "daylight_hrs     409.0         26.0\n",
      "Rainfall (in)  -2790.0        186.0\n",
      "dry day         2111.0        101.0\n",
      "Temp (F)         179.0          7.0\n",
      "annual           324.0         22.0\n"
     ]
    }
   ],
   "source": [
    "print(pd.DataFrame({\n",
    "    'effect': params.round(0),\n",
    "    'uncertainty': err.round(0)\n",
    "}))"
   ]
  },
  {
   "cell_type": "markdown",
   "id": "6d893aa8-b8a2-4745-bf66-db115c986fc5",
   "metadata": {},
   "source": [
    "The effect column here, roughly speaking, shows how the number of riders is affected by a change of the feature in question. For example, there is a clear divide when it comes to the day of the week: there are thousands fewer riders on weekends than on weekdays. We also see that for each additional hour of daylight, 409 ± 26 more people choose to ride; a temperature increase of one degree Fahrenheit encourages 179 ± 7 people to grab their bicycle; a dry day means an average of 2,111 ± 101 more riders, and every inch of rainfall leads 2,790 ± 186 riders to choose another mode of transport. Once all these effects are accounted for, we see a modest increase of 324 ± 22 new daily riders each year."
   ]
  },
  {
   "cell_type": "code",
   "execution_count": null,
   "id": "a9d0c8d9-79d4-4df2-a149-79fc377f7dd5",
   "metadata": {},
   "outputs": [],
   "source": []
  }
 ],
 "metadata": {
  "kernelspec": {
   "display_name": "Python 3 (ipykernel)",
   "language": "python",
   "name": "python3"
  },
  "language_info": {
   "codemirror_mode": {
    "name": "ipython",
    "version": 3
   },
   "file_extension": ".py",
   "mimetype": "text/x-python",
   "name": "python",
   "nbconvert_exporter": "python",
   "pygments_lexer": "ipython3",
   "version": "3.11.5"
  }
 },
 "nbformat": 4,
 "nbformat_minor": 5
}
